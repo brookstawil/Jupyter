{
 "cells": [
  {
   "cell_type": "markdown",
   "metadata": {},
   "source": [
    "# Brooks Tawil\n",
    "# ECE: 445 Machine Learning for Engineers\n",
    "## Mini Jupyter exercise 1"
   ]
  },
  {
   "cell_type": "markdown",
   "metadata": {},
   "source": [
    "##### The GDP for the US in trillions of USD:\n",
    "<table>\n",
    "  <tr>\n",
    "    <td>Year</td>\n",
    "    <td>1930</td> \n",
    "    <td>1940</td>\n",
    "    <td>1950</td>\n",
    "    <td>1960</td>\n",
    "    <td>1970</td>\n",
    "    <td>1980</td>\n",
    "    <td>1990</td>\n",
    "    <td>2000</td>\n",
    "    <td>2010</td>\n",
    "  </tr>\n",
    "  <tr>\n",
    "    <td>GDP</td>\n",
    "    <td>1.015</td> \n",
    "    <td>1.33</td>\n",
    "    <td>2.29</td>\n",
    "    <td>3.26</td>\n",
    "    <td>4.951</td>\n",
    "    <td>6.759</td>\n",
    "    <td>9.366</td>\n",
    "    <td>13.131</td>\n",
    "    <td>15.599</td>\n",
    "  </tr>\n",
    "</table>"
   ]
  },
  {
   "cell_type": "markdown",
   "metadata": {},
   "source": [
    "### Question 1\n",
    "\n",
    "Plot the GDP as a function of the year in Jupyter.\n",
    "\n",
    "First import the relevant libraries and set the data."
   ]
  },
  {
   "cell_type": "code",
   "execution_count": 1,
   "metadata": {},
   "outputs": [],
   "source": [
    "import matplotlib.pyplot as plt\n",
    "import numpy"
   ]
  },
  {
   "cell_type": "code",
   "execution_count": 2,
   "metadata": {},
   "outputs": [],
   "source": [
    "year = list(range(1930, 2020, 10))\n",
    "GDP = [1.015, 1.33, 2.29, 3.26, 4.951, 6.759, 9.366, 13.131, 15.599]"
   ]
  },
  {
   "cell_type": "code",
   "execution_count": 3,
   "metadata": {},
   "outputs": [
    {
     "data": {
      "image/png": "[encoded data removed]",
      "text/plain": [
       "<Figure size 432x288 with 1 Axes>"
      ]
     },
     "metadata": {
      "needs_background": "light"
     },
     "output_type": "display_data"
    }
   ],
   "source": [
    "# Using matplotlib to make the graph\n",
    "plt.plot(year, GDP, '--or')\n",
    "plt.title('Real US GDP (in trillions)')\n",
    "plt.xlabel('Year')\n",
    "plt.ylabel('Trillions of $')\n",
    "plt.show()"
   ]
  },
  {
   "cell_type": "markdown",
   "metadata": {},
   "source": [
    "### Question 2\n",
    "\n",
    "Based on the obtained plot, what is a possible mathematical relationship between GDP and Year?"
   ]
  },
  {
   "cell_type": "markdown",
   "metadata": {},
   "source": [
    "When looking at it initially, the data appears to be following some sort of poilynomial relationship. The rate of change in GDP appears to increase and a 2nd degree polynomial would be a good starting point. \n",
    "\n",
    "The rate of change increasing can be seenvisually, but also by looking at the difference between the values between each data point, and the one before it:"
   ]
  },
  {
   "cell_type": "code",
   "execution_count": 4,
   "metadata": {},
   "outputs": [
    {
     "name": "stdout",
     "output_type": "stream",
     "text": [
      "['0.315', '0.960', '0.970', '1.691', '1.808', '2.607', '3.765', '2.468']\n"
     ]
    }
   ],
   "source": [
    "GDP_Rate = [t - s for s, t in zip(GDP, GDP[1:])]\n",
    "GDP_Rate_Format = ['%.3f' % elem for elem in GDP_Rate]\n",
    "print (GDP_Rate_Format)"
   ]
  },
  {
   "cell_type": "markdown",
   "metadata": {},
   "source": [
    "Seeing that the difference between adjacent points isincreasing, would mean that  linear models would not be able to fully express the relation ship between GDP and Year.\n",
    "\n",
    "Additonally, the relationship can be adjusted to follow range the data lies with (years 1930-2010):\n",
    "\n",
    "$$\n",
    "\\begin{align}\n",
    "y & = a(x - n)^2 + c\n",
    "\\end{align}\n",
    "$$\n",
    "\n",
    "Finding the right values of a, n, and c would demonstrate this relationship more clearly on the graph using the given data.\n",
    "\n",
    "Knowing the data starts with a GDP of 1.015 trillion in 1930 gives us a value for $c$.\n",
    "\n",
    "Additionally, we want to polynomial to be adjusted for the years 1930-2010, so we would need to have an n such that the polynomial is centered around 1930, not the origin. So an adjustment of $n = 1930$ would help.\n",
    "\n",
    "Finally, the selection of a effects the bowing of the polynomial. Finding the proper value of $a$. In this case, adjusting fir a value of a that matches the first and last availible data points would allow for a polynomial that closely follows the path of the data as a whole. \n",
    "\n",
    "Using the chosen values of $a, n,$ and $c$ the relationship can be overlayed on top of the previous graph."
   ]
  },
  {
   "cell_type": "markdown",
   "metadata": {},
   "source": [
    "### Question 3\n",
    "\n",
    "Plot another curve that follows the mathematical relationship you have derived/argued between GDP\n",
    "and Year.\n",
    "\n",
    "Setting the variables $a, n,$ and $c$ gives the following model:\n",
    "$$\n",
    "\\begin{align}\n",
    "y & = 0.0023(x - 1930)^2 + 1.015\n",
    "\\end{align}\n",
    "$$"
   ]
  },
  {
   "cell_type": "code",
   "execution_count": 5,
   "metadata": {},
   "outputs": [
    {
     "name": "stdout",
     "output_type": "stream",
     "text": [
      "[ 1.015  1.245  1.935  3.085  4.695  6.765  9.295 12.285 15.735]\n"
     ]
    }
   ],
   "source": [
    "a = 0.0023\n",
    "n = 1930\n",
    "c = 1.015\n",
    "GDP_Model = numpy.array(year)\n",
    "GDP_Model = a*(GDP_Model - n)**2 + c\n",
    "print (GDP_Model)"
   ]
  },
  {
   "cell_type": "code",
   "execution_count": 6,
   "metadata": {},
   "outputs": [
    {
     "data": {
      "image/png": "[encoded data removed]",
      "text/plain": [
       "<Figure size 432x288 with 1 Axes>"
      ]
     },
     "metadata": {
      "needs_background": "light"
     },
     "output_type": "display_data"
    }
   ],
   "source": [
    "# Using matplotlib to make the graph\n",
    "plt.plot(year, GDP, '--or')\n",
    "plt.title('Real US GDP (in trillions)')\n",
    "plt.xlabel('Year')\n",
    "plt.ylabel('Trillions of $')\n",
    "plt.plot(year, GDP_Model, '--ob')\n",
    "plt.legend(['Actual', 'Model'])\n",
    "plt.show()"
   ]
  },
  {
   "cell_type": "code",
   "execution_count": null,
   "metadata": {},
   "outputs": [],
   "source": []
  }
 ],
 "metadata": {
  "kernelspec": {
   "display_name": "Python 3",
   "language": "python",
   "name": "python3"
  },
  "language_info": {
   "codemirror_mode": {
    "name": "ipython",
    "version": 3
   },
   "file_extension": ".py",
   "mimetype": "text/x-python",
   "name": "python",
   "nbconvert_exporter": "python",
   "pygments_lexer": "ipython3",
   "version": "3.5.4"
  }
 },
 "nbformat": 4,
 "nbformat_minor": 2
}
