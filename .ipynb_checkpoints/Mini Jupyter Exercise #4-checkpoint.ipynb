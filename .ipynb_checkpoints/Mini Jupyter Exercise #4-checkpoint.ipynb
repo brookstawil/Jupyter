{
 "cells": [
  {
   "cell_type": "markdown",
   "metadata": {},
   "source": [
    "# Brooks Tawil\n",
    "# ECE: 445 Machine Learning for Engineers\n",
    "## Mini Jupyter Exercise 4\n",
    "\n",
    "### Training Dataset\n",
    "\n",
    "The training dataset for this problem corresponds to the images of handwritten digits ‘0’ and ‘1’ that come\n",
    "prepackaged with the sklearn package. There are a total of 360 images of digits ‘0’ and ‘1’; we will divide\n",
    "them into 300 images for training purposes, while we will evaluate the performance of k-NN classification\n",
    "on the remaining 60 images, which we will refer to as the “test” set."
   ]
  },
  {
   "cell_type": "code",
   "execution_count": 1,
   "metadata": {},
   "outputs": [],
   "source": [
    "import numpy as np\n",
    "from matplotlib import pyplot as plt\n",
    "import mpl_toolkits.mplot3d\n",
    "\n",
    "# Obtaining training and test sets\n",
    "from sklearn.datasets import load_digits\n",
    "images, labels = load_digits(2, return_X_y=True)\n",
    "# Labeled training set\n",
    "training_images = images[:300]\n",
    "training_labels = labels[:300]\n",
    "# Labeled test set\n",
    "test_images = images[300:]\n",
    "test_labels = labels[300:]"
   ]
  },
  {
   "cell_type": "markdown",
   "metadata": {},
   "source": [
    "### k-NN Classification Using 2-D Features\n",
    "\n",
    "1. Carry out principal component analysis (PCA) of images in the training set and compute two-dimensional PCA features of training images."
   ]
  },
  {
   "cell_type": "code",
   "execution_count": 2,
   "metadata": {},
   "outputs": [],
   "source": [
    "# First transpose the image data and center\n",
    "X = training_images.transpose()\n",
    "\n",
    "mean = np.reshape(X.mean(1), (64,1))\n",
    "X = X - mean\n",
    "\n",
    "# X is now mean centered and ready for PCA\n",
    "# Find SVS\n",
    "# Get two dimensional features by first 2 columns of U\n",
    "# Then multply by data to get the dimensional reduction\n",
    "\n",
    "U, S, V = np.linalg.svd(X)\n",
    "topTwo = U[:,[0,1]]\n",
    "topTwoFeature = np.matmul(topTwo.transpose(), X)"
   ]
  },
  {
   "cell_type": "markdown",
   "metadata": {},
   "source": [
    "- Display the two-dimensional features of training images as points on a two-dimensional scatter plot. Color all points corresponding to digits ‘0’ as red and all points corresponding to digits ‘1’ as green.\n",
    "\n",
    "To display these features we need to use the training labels to extract their true value so that they can be plotted."
   ]
  },
  {
   "cell_type": "code",
   "execution_count": 3,
   "metadata": {},
   "outputs": [
    {
     "data": {
      "image/png": "[encoded data removed]",
      "text/plain": [
       "<Figure size 432x288 with 1 Axes>"
      ]
     },
     "metadata": {
      "needs_background": "light"
     },
     "output_type": "display_data"
    }
   ],
   "source": [
    "# Using the now 2D data, we can plot it using matplotlib\n",
    "zeroData = []\n",
    "oneData = []\n",
    "\n",
    "for i in range(len(training_labels)):\n",
    "    if(training_labels[i] == 1):\n",
    "        oneData.append(topTwoFeature[:,i])\n",
    "    else:\n",
    "        zeroData.append(topTwoFeature[:,i])\n",
    "    \n",
    "# zip takes n number of iterables and returns list of tuples. \n",
    "# ith element of the tuple is created using the ith element from each of the iterables.\n",
    "oneX, oneY = zip(*oneData)\n",
    "zeroX, zeroY = zip(*zeroData)\n",
    "\n",
    "fig = plt.figure()\n",
    "ax = fig.add_subplot(111)  \n",
    "ax.scatter(oneX,oneY, c='g');\n",
    "ax.scatter(zeroX,zeroY, c='r');\n",
    "plt.title(\"2D features\");"
   ]
  },
  {
   "cell_type": "markdown",
   "metadata": {},
   "source": [
    "2. Classify each image in the test set by first transforming it to the two-dimensional PCA domain using the principal components obtained above and then using $k-NN$ classification with $k = 5$ and the distance metric being $|| · ||_2$."
   ]
  },
  {
   "cell_type": "markdown",
   "metadata": {},
   "source": [
    "- Display the two-dimensional features of test images as points on a two-dimensional scatter plot. Color all points that are correctly classified as blue and all points that are incorrectly classified as black."
   ]
  },
  {
   "cell_type": "code",
   "execution_count": 4,
   "metadata": {},
   "outputs": [],
   "source": [
    "# We can use a heap to store the data with simple push and pop of the smallest values\n",
    "from heapq import heappush, heappop\n",
    "\n",
    "centeredTest = test_images.transpose() - mean\n",
    "topTwoTest = np.matmul(topTwo.transpose(), centeredTest)\n",
    "\n",
    "# For k-NN we need to find the distance between the test points and the training set points\n",
    "kNNClassZero = []\n",
    "kNNClassOne = []\n",
    "\n",
    "k = 5\n",
    "index = 0\n",
    "for data in topTwoTest.transpose():\n",
    "    heap = []\n",
    "    # For each point we need to calculate the L2 norm.\n",
    "    # Tuple is (L2Norm, class)\n",
    "    for point in zeroData:\n",
    "        # Make into python list\n",
    "        np.reshape(point,(2,1))\n",
    "        np.reshape(data,(2,1))\n",
    "        # Push to heap, will maintain the ordering so that later the nearest are popped\n",
    "        heappush(heap,(sum([x**2 for x in (data - point)])**0.5, 0))\n",
    "    \n",
    "    for point in oneData:\n",
    "        np.reshape(point,(2,1))\n",
    "        np.reshape(data,(2,1))\n",
    "        heappush(heap,(sum([x**2 for x in (data - point)])**0.5, 1))\n",
    "    \n",
    "    # Now we need to pop from our heap and classify using kNN\n",
    "    numOne = 0\n",
    "    numZero = 0\n",
    "    # We need the k nearest neighbors. The heap allows us to get the smallest distance off of the pop\n",
    "    for i in range(k):\n",
    "        pop = heappop(heap)\n",
    "        if(pop[1] == 1):\n",
    "            numOne += 1\n",
    "        else:\n",
    "            numZero += 1\n",
    "    # Now add to the class lists\n",
    "    if numOne > numZero:\n",
    "        kNNClassOne.append((data, index))\n",
    "    else:\n",
    "        kNNClassZero.append((data, index))\n",
    "        \n",
    "    index += 1"
   ]
  },
  {
   "cell_type": "markdown",
   "metadata": {},
   "source": [
    "At this point, each of the resulting data points is now classified as either a '0' or '1'. Although some may be classified incorrectly, and an error will have to be checked against their true values."
   ]
  },
  {
   "cell_type": "code",
   "execution_count": 5,
   "metadata": {},
   "outputs": [
    {
     "name": "stdout",
     "output_type": "stream",
     "text": [
      "Incorrect values: []\n"
     ]
    },
    {
     "data": {
      "image/png": "[encoded data removed]",
      "text/plain": [
       "<Figure size 432x288 with 1 Axes>"
      ]
     },
     "metadata": {
      "needs_background": "light"
     },
     "output_type": "display_data"
    }
   ],
   "source": [
    "errors = []\n",
    "clean =[]\n",
    "\n",
    "for i in kNNClassOne:\n",
    "    if 1 == test_labels[i[1]]:\n",
    "        clean.append(i[0])\n",
    "    else:\n",
    "        errors.append(i[0])\n",
    "\n",
    "\n",
    "for i in kNNClassZero:\n",
    "    if 0 == test_labels[i[1]]:\n",
    "        clean.append(i[0])\n",
    "    else:\n",
    "        errors.append(i[0])\n",
    "\n",
    "cleanX, cleanY = zip(*clean)\n",
    "# errorX, errorY = zip(*errors)\n",
    "\n",
    "fig = plt.figure()\n",
    "ax = fig.add_subplot(111);\n",
    "ax.scatter(cleanX, cleanY, color='b');\n",
    "# ax.scatter(errorX, errorY, color='r');\n",
    "plt.title('Plotted points');\n",
    "\n",
    "print ('Incorrect values: '  + str(errors))"
   ]
  },
  {
   "cell_type": "markdown",
   "metadata": {},
   "source": [
    "3. Compute and display the average classification error for the test set, defined as $\\frac{1}{N}\\Sigma^N_{i=1}1_{y_i' != y_i}$\n",
    "; here, $y_i$ denotes the true label of the $i-th$ image, $y'_i$ denotes the label returned by $k-NN$, and $N = 60$ in this\n",
    "particular problem.\n",
    "\n",
    "Notice how there are now values in the 'errors' list, indicating that all values were correctly classified. These misclassified values would be in red if they were plotted. The error would thus be zero, but for good measure, the steps of computation are shown below."
   ]
  },
  {
   "cell_type": "code",
   "execution_count": 6,
   "metadata": {},
   "outputs": [
    {
     "name": "stdout",
     "output_type": "stream",
     "text": [
      "The classification error is: 0.0\n"
     ]
    }
   ],
   "source": [
    "print('The classification error is: ' + str(len(errors)/(len(errors) + len(clean))))"
   ]
  },
  {
   "cell_type": "markdown",
   "metadata": {},
   "source": [
    "### k-NN Classification Using Higher-dimensional Features\n",
    "1. Carry out PCA of images in the training set and compute r-dimensional PCA features of training images such that the top-r principal components capture 95% of variation within the training data.\n",
    "\n",
    "We need to find the smallest k that will deliver the minimum desired variation of 95%."
   ]
  },
  {
   "cell_type": "code",
   "execution_count": 7,
   "metadata": {},
   "outputs": [
    {
     "name": "stdout",
     "output_type": "stream",
     "text": [
      "The smallest k that gives variance of at least 0.95 is: k = 19\n"
     ]
    }
   ],
   "source": [
    "# By taking the Frobenius norm, we get the square root of the sum of the squares of each entry in the matrix\n",
    "frobNorm = np.linalg.norm(X, 'fro')\n",
    "singularValues = 0\n",
    "k = 0\n",
    "\n",
    "# We must iterate over the singular values and find the amount of principal components that gives us the desired variance\n",
    "# Remember python indexes from 0 so we need to add 1 to our k\n",
    "for i in range(len(S)):\n",
    "    singularValues += S[i]**2\n",
    "    if(singularValues/(frobNorm**2) >= 0.95):\n",
    "        k = i + 1\n",
    "        break\n",
    "print('The smallest k that gives variance of at least 0.95 is: k = ' + str(k))"
   ]
  },
  {
   "cell_type": "code",
   "execution_count": 8,
   "metadata": {},
   "outputs": [
    {
     "name": "stdout",
     "output_type": "stream",
     "text": [
      "(19, 60)\n"
     ]
    }
   ],
   "source": [
    "# So lets take r = 19\n",
    "r = 19\n",
    "\n",
    "# Get those features\n",
    "topR = U.transpose()[0:r].transpose()\n",
    "topRFeature = np.matmul(topR.transpose(), X)\n",
    "\n",
    "zeroData = []\n",
    "oneData = []\n",
    "\n",
    "for i in range(len(training_labels)):\n",
    "    if(training_labels[i] == 1):\n",
    "        oneData.append(topRFeature[:,i])\n",
    "    else:\n",
    "        zeroData.append(topRFeature[:,i])\n",
    "        \n",
    "testR = np.matmul(topR.transpose(), centeredTest)\n",
    "print (testR.shape)"
   ]
  },
  {
   "cell_type": "markdown",
   "metadata": {},
   "source": [
    "2. Classify each image in the test set by first transforming it to the r-dimensional PCA domain using the principal components obtained above and then using $k-NN$ classification with the distance metric being $|| · ||_2$ and $k$ being an odd integer from 1 to 9."
   ]
  },
  {
   "cell_type": "markdown",
   "metadata": {},
   "source": [
    "- Provide a labeled plot of the average classification error for the test set as a function of k.\n",
    "\n",
    "We can compute the kNN just as before starting with the distances pushed onto a heap."
   ]
  },
  {
   "cell_type": "code",
   "execution_count": 9,
   "metadata": {},
   "outputs": [],
   "source": [
    "# We contain in a for loop that goes through the odd integers and iterates k\n",
    "\n",
    "for k in range(1,10,2):\n",
    "    # From here it is very similar as before for kNN\n",
    "    index = 0\n",
    "    kNNClassZero = []\n",
    "    kNNClassOne = []\n",
    "    \n",
    "    for data in testR.transpose():\n",
    "        heap = []\n",
    "        # Tuple is (L2Norm, class)\n",
    "        for point in zeroData:\n",
    "            # Make into python list\n",
    "            np.reshape(point, (r,1))\n",
    "            np.reshape(data, (r,1))\n",
    "            # Push to heap, will maintain the ordering so that later the nearest are popped\n",
    "            heappush(heap,(sum([x**2 for x in (data - point)])**0.5, 0))\n",
    "\n",
    "        for point in oneData:\n",
    "            np.reshape(point,(r,1))\n",
    "            np.reshape(data,(r,1))\n",
    "            heappush(heap,(sum([x**2 for x in (data - point)])**0.5, 1))\n",
    "            \n",
    "        # Now we need to pop from our heap and classify using kNN\n",
    "        numOne = 0\n",
    "        numZero = 0\n",
    "        for i in range(k):\n",
    "            pop = heappop(heap)\n",
    "            if(pop[1] == 1):\n",
    "                numOne += 1\n",
    "            else:\n",
    "                numZero += 1\n",
    "                \n",
    "        # Now add to the class lists\n",
    "        if numOne > numZero:\n",
    "            kNNClassOne.append((data, index))\n",
    "        else:\n",
    "            kNNClassZero.append((data, index))\n",
    "            \n",
    "        index += 1"
   ]
  },
  {
   "cell_type": "markdown",
   "metadata": {},
   "source": [
    "With the points classified we can check against the labels and see our error, just like before."
   ]
  },
  {
   "cell_type": "code",
   "execution_count": 10,
   "metadata": {},
   "outputs": [],
   "source": [
    "averageErrors = []\n",
    "for k in range(1,10,2):\n",
    "    errors = []\n",
    "    clean =[]\n",
    "\n",
    "    for i in kNNClassOne:\n",
    "        if 1 == test_labels[i[1]]:\n",
    "            clean.append(i[0])\n",
    "        else:\n",
    "            errors.append(i[0])\n",
    "\n",
    "\n",
    "    for i in kNNClassZero:\n",
    "        if 0 == test_labels[i[1]]:\n",
    "            clean.append(i[0])\n",
    "        else:\n",
    "            errors.append(i[0])\n",
    "        \n",
    "    # We need a tuple to hold the value of k and the average error at that k\n",
    "    averageErrors.append((k, len(errors)/(len(errors) + len(clean))))"
   ]
  },
  {
   "cell_type": "markdown",
   "metadata": {},
   "source": [
    "From here we can now plot the average errors at each of the k values."
   ]
  },
  {
   "cell_type": "code",
   "execution_count": 11,
   "metadata": {},
   "outputs": [
    {
     "data": {
      "text/plain": [
       "Text(0.5,1,'Average Classification Error for Test Set as a Function of k')"
      ]
     },
     "execution_count": 11,
     "metadata": {},
     "output_type": "execute_result"
    },
    {
     "data": {
      "image/png": "[encoded data removed]",
      "text/plain": [
       "<Figure size 432x288 with 1 Axes>"
      ]
     },
     "metadata": {
      "needs_background": "light"
     },
     "output_type": "display_data"
    }
   ],
   "source": [
    "kList, errorList = zip(*averageErrors)\n",
    "fig = plt.figure()\n",
    "ax = fig.add_subplot(111)\n",
    "ax.scatter(kList, errorList,color='b')\n",
    "plt.xlabel('k');\n",
    "plt.ylabel('Average Classfication Error');\n",
    "plt.title('Average Classification Error for Test Set as a Function of k')"
   ]
  },
  {
   "cell_type": "markdown",
   "metadata": {},
   "source": [
    "- Based on the plot, what value of k will you recommend be used for future k-NN classification of digits ‘0’ and ‘1’?"
   ]
  },
  {
   "cell_type": "markdown",
   "metadata": {},
   "source": [
    "Seeing as how there is no classification error, it would make much more sense to use a much smaller $k$. If $k$ were set to 1, then there would be less operations needed to reach this same conclusion. If for some reason this graph showed some error for a value of $k = 1$ then it would make sense to use a higher k value to eliminate the error. But in this instance, $k = 1$ gives no error and would work perfectly."
   ]
  }
 ],
 "metadata": {
  "kernelspec": {
   "display_name": "Python 3",
   "language": "python",
   "name": "python3"
  },
  "language_info": {
   "codemirror_mode": {
    "name": "ipython",
    "version": 3
   },
   "file_extension": ".py",
   "mimetype": "text/x-python",
   "name": "python",
   "nbconvert_exporter": "python",
   "pygments_lexer": "ipython3",
   "version": "3.5.4"
  }
 },
 "nbformat": 4,
 "nbformat_minor": 2
}
