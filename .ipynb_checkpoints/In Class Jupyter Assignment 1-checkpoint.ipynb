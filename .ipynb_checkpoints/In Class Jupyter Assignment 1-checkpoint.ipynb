{
 "cells": [
  {
   "cell_type": "markdown",
   "metadata": {},
   "source": [
    "## In Class Jupyter Assignment #1\n",
    "### Brooks Tawil\n",
    "\n",
    "#### Set 1"
   ]
  },
  {
   "cell_type": "code",
   "execution_count": 1,
   "metadata": {},
   "outputs": [
    {
     "name": "stdout",
     "output_type": "stream",
     "text": [
      "(506, 13)\n",
      "(506,)\n"
     ]
    }
   ],
   "source": [
    "# Load Dataset\n",
    "import numpy as np\n",
    "from sklearn.datasets import load_boston\n",
    "\n",
    "boston, target = load_boston(True)\n",
    "\n",
    "print (boston.data.shape)\n",
    "print (target.shape)"
   ]
  },
  {
   "cell_type": "markdown",
   "metadata": {},
   "source": [
    "1. Implement least-squares (LS) regression -- 5 pts"
   ]
  },
  {
   "cell_type": "code",
   "execution_count": 2,
   "metadata": {},
   "outputs": [
    {
     "name": "stdout",
     "output_type": "stream",
     "text": [
      "[-1.08011358e-01  4.64204584e-02  2.05586264e-02  2.68673382e+00\n",
      " -1.77666112e+01  3.80986521e+00  6.92224640e-04 -1.47556685e+00\n",
      "  3.06049479e-01 -1.23345939e-02 -9.52747232e-01  9.31168327e-03\n",
      " -5.24758378e-01  3.64594884e+01]\n",
      "Test Set Error 21.89483118172919\n",
      "\n"
     ]
    }
   ],
   "source": [
    "# Part 1, LS Regression\n",
    "# w = (X^T X)^-1 X^T Y\n",
    "\n",
    "# Form data and targets as column-wise to the datapoints\n",
    "X = np.column_stack((np.array(boston), np.ones((506,1))))\n",
    "Y = np.array(target)\n",
    "\n",
    "w = (np.linalg.inv((X.T @ X)) @ X.T) @ Y\n",
    "\n",
    "print (w)\n",
    "\n",
    "# Use the found w to calculate y' on the test set\n",
    "yHat = np.matmul(X, w)\n",
    "\n",
    "# Caluculate error\n",
    "sumSquare = 0\n",
    "for i in range(len(yHat)):\n",
    "    sumSquare += np.square(np.subtract(yHat[i], Y[i]))    \n",
    "sumSquare = sumSquare/len(yHat)\n",
    "\n",
    "\n",
    "print ('Test Set Error ' + str(sumSquare))\n",
    "print ()"
   ]
  },
  {
   "cell_type": "markdown",
   "metadata": {},
   "source": [
    "2. Carry out LS regression on the house prices dataset using 5-fold cross validation and report the average prediction error -- 10pts"
   ]
  },
  {
   "cell_type": "code",
   "execution_count": 3,
   "metadata": {},
   "outputs": [
    {
     "name": "stdout",
     "output_type": "stream",
     "text": [
      "Test Set 0 Error: 692.7367616384062\n",
      "\n",
      "Test Set 1 Error: 46.53878970736069\n",
      "\n",
      "Test Set 2 Error: 32.493523265479915\n",
      "\n",
      "Test Set 3 Error: 24.122975551919367\n",
      "\n",
      "Test Set 4 Error: 0.008849337503070374\n",
      "\n",
      "Errors: [692.7367616384062, 46.53878970736069, 32.493523265479915, 24.122975551919367, 0.008849337503070374]\n",
      "Average prediction error: \t159.18017990013385\n",
      "Error using best w: \t\t21.97986870013777\n",
      "\n"
     ]
    }
   ],
   "source": [
    "# Part 2, Cross Validation\n",
    "# 5 - fold Cross valiation\n",
    "# k = 5 = len(blocks)\n",
    "\n",
    "blocks = [[],[],[],[],[]]\n",
    "targets = [[],[],[],[],[]]\n",
    "errors = []\n",
    "w_s = []\n",
    "count = 0\n",
    "\n",
    "# Assign indices to the data for shuffling\n",
    "indices = []\n",
    "for i in range(len(X)):\n",
    "    indices.append(i)\n",
    "import random\n",
    "random.shuffle(indices)\n",
    "\n",
    "# Split the data and targets into seperate blocks\n",
    "for index in indices:    \n",
    "    blocks[count].append(X[index])\n",
    "    targets[count].append(Y[index])\n",
    "    \n",
    "    count += 1\n",
    "    if(count == 5):\n",
    "        count = 0\n",
    "\n",
    "# i is an identifier as to which block is the test set\n",
    "for i in range(len(blocks)):\n",
    "    # Separate training_set\n",
    "    training_set = []\n",
    "    training_targets = []\n",
    "    for j in range(5):\n",
    "        if(i != j):\n",
    "            for k in range(len(blocks[j])):\n",
    "                training_set.append(blocks[j][k])\n",
    "                training_targets.append(targets[j][k])\n",
    "      \n",
    "    # From the test_set\n",
    "    test_set = np.array(blocks[i])\n",
    "    test_targets = np.array(targets[i])\n",
    "    training_set = np.array(training_set)\n",
    "    training_targets = np.array(training_targets)\n",
    "    \n",
    "    '''\n",
    "    print (test_set.shape)\n",
    "    print (test_targets.shape)\n",
    "    print (training_set.shape)\n",
    "    print (training_targets.shape)\n",
    "    '''\n",
    "    \n",
    "    # Run the LS regression on the training sets to get a w\n",
    "    w = np.matmul(np.matmul(np.linalg.inv(np.matmul(training_set.T,training_set)), training_set.T), training_targets)\n",
    "    \n",
    "    # Use the found w to calculate y' on the test set\n",
    "    yHat = np.matmul(test_set, w)\n",
    "    \n",
    "    # Calculate the LS error \n",
    "    sumSquare = 0\n",
    "    for j in range(len(test_set)):\n",
    "        sumSquare += np.square(np.subtract(test_targets[i], yHat[i]))\n",
    "    sumSquare = sumSquare/len(test_set)\n",
    "    \n",
    "    print ('Test Set ' + str(i) + ' Error: ' + str(sumSquare))\n",
    "    errors.append(sumSquare)\n",
    "    \n",
    "    # Collect the measured and predicted\n",
    "    print ()\n",
    "    \n",
    "    w_s.append(w)\n",
    "    \n",
    "print ('Errors: ' + str(errors))\n",
    "print ('Average prediction error: \\t' + str(np.mean(errors)))\n",
    "\n",
    "\n",
    "# Get the w that gives the smallest error\n",
    "minError = 10000000000\n",
    "minError_index = 0\n",
    "for i in range(len(errors)):\n",
    "    if errors[i] < minError:\n",
    "        minError = errors[i]\n",
    "        minError_index = i\n",
    "\n",
    "w_s = np.array(w_s) \n",
    "best_w = w_s[minError_index]\n",
    "\n",
    "# With the best w, run across the whole set like before and find the error\n",
    "# Use the found w to calculate y' on the test set\n",
    "yHat = np.matmul(X, best_w)\n",
    "\n",
    "# Caluculate error using the best w\n",
    "sumSquare = 0\n",
    "for i in range(len(yHat)):\n",
    "    sumSquare += np.square(np.subtract(yHat[i], Y[i]))\n",
    "sumSquare = sumSquare/len(yHat)\n",
    "\n",
    "print ('Error using best w: \\t\\t' + str(sumSquare))\n",
    "print ()"
   ]
  },
  {
   "cell_type": "markdown",
   "metadata": {},
   "source": [
    "3. Provide a plot of \"Measured versus Predicted\" values and overlay on top of this a line with slope 1 -- 5 pts"
   ]
  },
  {
   "cell_type": "code",
   "execution_count": 4,
   "metadata": {},
   "outputs": [
    {
     "data": {
      "text/plain": [
       "<Figure size 1400x600 with 1 Axes>"
      ]
     },
     "metadata": {},
     "output_type": "display_data"
    }
   ],
   "source": [
    "# Part 3, Graph Predicted vs. Measured\n",
    "# yHat is the Predicted\n",
    "# Y is the Measured\n",
    "\n",
    "import matplotlib.pyplot as plt\n",
    "\n",
    "x_axis = []\n",
    "for i in range(len(Y)):\n",
    "    x_axis.append(i)\n",
    "\n",
    "plt.figure(figsize=(14, 6))\n",
    "plt.title('Measued vs. Predicted of Median Home Value')\n",
    "plt.scatter(Y, yHat)\n",
    "plt.xlabel('Measured')\n",
    "plt.ylabel('Predicted')\n",
    "axes = plt.gca()\n",
    "plt.plot(axes.get_xlim(), axes.get_ylim(), 'r')\n",
    "plt.show()"
   ]
  },
  {
   "cell_type": "markdown",
   "metadata": {},
   "source": [
    "#### Set 2\n",
    "\n",
    "1. Implement ridge regression -- 2.5 pts"
   ]
  },
  {
   "cell_type": "code",
   "execution_count": 13,
   "metadata": {},
   "outputs": [
    {
     "name": "stdout",
     "output_type": "stream",
     "text": [
      "[-9.86048066e-02  4.82554320e-02 -8.77533496e-03  2.65452916e+00\n",
      " -6.28879951e+00  4.86927445e+00 -6.65674913e-03 -1.16424615e+00\n",
      "  2.30512930e-01 -1.12443314e-02 -6.30840387e-01  1.22963608e-02\n",
      " -4.77294333e-01  1.56705427e+01]\n"
     ]
    }
   ],
   "source": [
    "# Ridge Regression\n",
    "# w = (X′X + λI)^−1 X′Y\n",
    "\n",
    "# The Lambda will have to be tested using cross validation, for now I've left as 1\n",
    "lam = 1\n",
    "\n",
    "# Get the weight vector using the lambda\n",
    "w = np.matmul(np.matmul(np.linalg.inv(np.add(np.matmul(X.T,X), np.multiply(lam, np.identity(X.shape[1])))), X.T), Y)\n",
    "\n",
    "print (w)"
   ]
  },
  {
   "cell_type": "markdown",
   "metadata": {},
   "source": [
    "2. Carry out ridge regression on the house prices dataset by learning lambda using 5-fold cross validation, where one of the folds is reserved for final testing, and report the average prediction error -- 7.5 pts"
   ]
  },
  {
   "cell_type": "code",
   "execution_count": 19,
   "metadata": {},
   "outputs": [
    {
     "name": "stdout",
     "output_type": "stream",
     "text": [
      "(101, 14)\n",
      "(101,)\n",
      "[0.0001, 0.001, 0.01, 0.1, 1.0, 10.0, 100.0, 1000.0, 10000.0]\n"
     ]
    }
   ],
   "source": [
    "# Part 2\n",
    "# Cross Validate to find lambda\n",
    "\n",
    "blocks = [[],[],[],[],[]]\n",
    "targets = [[],[],[],[],[]]\n",
    "errors = []\n",
    "w_s = []\n",
    "count = 0\n",
    "\n",
    "# Assign indices to the data for shuffling\n",
    "indices = []\n",
    "for i in range(len(X)):\n",
    "    indices.append(i)\n",
    "import random\n",
    "random.shuffle(indices)\n",
    "\n",
    "# Split the data and targets into seperate blocks\n",
    "for index in indices:    \n",
    "    blocks[count].append(X[index])\n",
    "    targets[count].append(Y[index])\n",
    "    \n",
    "    count += 1\n",
    "    if(count == 5):\n",
    "        count = 0\n",
    "\n",
    "# Reserve one block as the final test set\n",
    "final_test_block = np.array(blocks.pop())\n",
    "final_test_targets = np.array(targets.pop())\n",
    "\n",
    "print (final_test_block.shape)\n",
    "print (final_test_targets.shape)\n",
    "\n",
    "# Discretize Lambda\n",
    "lambda_step = 0.0001\n",
    "lambda_list = []\n",
    "for i in range(9):\n",
    "    lambda_list.append(lambda_step * 10 ** i)\n",
    "    \n",
    "# For each of the lambdas, cross validate\n",
    "# i is an identifier for which lambda value is being used\n",
    "for i in range(len(lambda_list)):\n",
    "    # j is an identifier for which block in the cross validation we are using\n",
    "    for j in range(len(blocks)):\n"
   ]
  },
  {
   "cell_type": "code",
   "execution_count": null,
   "metadata": {},
   "outputs": [],
   "source": []
  }
 ],
 "metadata": {
  "kernelspec": {
   "display_name": "Python 3",
   "language": "python",
   "name": "python3"
  },
  "language_info": {
   "codemirror_mode": {
    "name": "ipython",
    "version": 3
   },
   "file_extension": ".py",
   "mimetype": "text/x-python",
   "name": "python",
   "nbconvert_exporter": "python",
   "pygments_lexer": "ipython3",
   "version": "3.7.1"
  }
 },
 "nbformat": 4,
 "nbformat_minor": 2
}
