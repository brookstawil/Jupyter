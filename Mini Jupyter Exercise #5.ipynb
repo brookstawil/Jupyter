{
 "cells": [
  {
   "cell_type": "markdown",
   "metadata": {},
   "source": [
    "# Brooks Tawil\n",
    "# ECE: 445 Machine Learning for Engineers\n",
    "## Mini Jupyter Exercise 5\n",
    "\n",
    "### Wine Dataset\n",
    "\n",
    "In this exercise, we will use the Wine dataset from UCI Machine Learning Repository. This is a three-class\n",
    "dataset comprising 178 data samples, with each sample described by a total of 13 (integer- or real-valued)\n",
    "attributes (i.e., each data sample is 13-dimensional). The three class labels of 0, 1, and 2 correspond to three\n",
    "different cultivars that gave rise to the wines included in the dataset."
   ]
  },
  {
   "cell_type": "code",
   "execution_count": 1,
   "metadata": {},
   "outputs": [],
   "source": [
    "import numpy as np\n",
    "import matplotlib.pyplot as plt\n",
    "from sklearn.datasets import load_wine\n",
    "samples, labels = load_wine(return_X_y=True)"
   ]
  },
  {
   "cell_type": "markdown",
   "metadata": {},
   "source": [
    "### Standardization of Data\n",
    "\n",
    "In an earlier exercise (Exercise #2), we discussed the importance of centering of data for feature learning\n",
    "and extraction using principal component analysis (PCA). In many datasets, especially those in which a\n",
    "sample is given by attributes (raw features) that have different scaling, it is also important to both center and\n",
    "normalize the data before feature learning using PCA. (Refer to “Scaling the Variables” within Sec. 10.2.3 of\n",
    "“An Introduction to Statistical Learning” for more discussion on this topic.) In this exercise, we will focus on\n",
    "normalization that makes the (empirical) variance of each attribute unity. Data that has both been centered\n",
    "and normalized to have zero mean and unit variance at the attribute (raw feature) level is often referred to\n",
    "as standardized data."
   ]
  },
  {
   "cell_type": "markdown",
   "metadata": {},
   "source": [
    "1. Center the wine dataset so that each attribute has zero (empirical) mean."
   ]
  },
  {
   "cell_type": "code",
   "execution_count": 2,
   "metadata": {},
   "outputs": [],
   "source": [
    "mean = samples.mean(0) \n",
    "centeredSamples = np.zeros((len(samples), len(samples[0])))\n",
    "\n",
    "# For each sample, subtract the mean for the sample to center it\n",
    "for i in range(len(samples)):\n",
    "    centeredSamples[i] = samples[i] - mean\n",
    "# Transpose the data so that variables are column-wise    \n",
    "transposeSamples = centeredSamples.T\n",
    "# Samples now have zero-empirical mean"
   ]
  },
  {
   "cell_type": "markdown",
   "metadata": {},
   "source": [
    "2. Compute two-dimensional PCA features of the centered wine dataset."
   ]
  },
  {
   "cell_type": "code",
   "execution_count": 3,
   "metadata": {},
   "outputs": [],
   "source": [
    "centeredData = transposeSamples\n",
    "\n",
    "# Perform PCA as before for n=2\n",
    "U,S,V = np.linalg.svd(centeredData)\n",
    "topTwoU = U[:,:2]\n",
    "topTwoS = np.diag(S[:2])\n",
    "topTwo = np.matmul(topTwoU, topTwoS)\n",
    "\n",
    "# Normalize the PCs\n",
    "for i in range(2):\n",
    "    topTwo[:,i] = np.divide(topTwo[:,i], np.linalg.norm(topTwo[:,i])) \n",
    "reducedSamples = np.matmul(topTwo.T, centeredData).T"
   ]
  },
  {
   "cell_type": "markdown",
   "metadata": {},
   "source": [
    "• Display the two-dimensional features of wine data samples as points on a two-dimensional scatter\n",
    "plot. Display all points corresponding to: (i) label ‘0’ as red squares, (ii) label ‘1’ as green triangles,\n",
    "and (iii) label ‘2’ as blue circles."
   ]
  },
  {
   "cell_type": "code",
   "execution_count": 4,
   "metadata": {},
   "outputs": [
    {
     "data": {
      "image/png": "[encoded data removed]",
      "text/plain": [
       "<Figure size 432x288 with 1 Axes>"
      ]
     },
     "metadata": {
      "needs_background": "light"
     },
     "output_type": "display_data"
    }
   ],
   "source": [
    "# Get the labels\n",
    "# Using the now 2D data, we can plot it using matplotlib\n",
    "zeroData = []\n",
    "oneData = []\n",
    "twoData = []\n",
    "\n",
    "# Separate into sets\n",
    "for i in range(len(labels)):\n",
    "    if(labels[i] == 0):\n",
    "        zeroData.append(reducedSamples[i])\n",
    "    elif(labels[i] == 1):\n",
    "        oneData.append(reducedSamples[i])\n",
    "    else:\n",
    "        twoData.append(reducedSamples[i])\n",
    "\n",
    "# Plot\n",
    "plt.figure()\n",
    "for dataPoint in zeroData:\n",
    "    zeroPoint = plt.scatter(dataPoint[0], dataPoint[1], c=\"red\", marker=\"s\")\n",
    "for dataPoint in oneData:\n",
    "    onePoint = plt.scatter(dataPoint[0], dataPoint[1], c=\"green\", marker=\"^\")\n",
    "for dataPoint in twoData:\n",
    "    twoPoint = plt.scatter(dataPoint[0], dataPoint[1], c=\"blue\", marker=\"o\") \n",
    "plt.legend((zeroPoint, onePoint, twoPoint), (\"0\", \"1\", \"2\"), loc='upper right', ncol=1)\n",
    "plt.title(\"Centered Data in 2D\")\n",
    "plt.xlabel('PC 1')\n",
    "plt.ylabel('PC 2')\n",
    "plt.plot()\n",
    "plt.show()"
   ]
  },
  {
   "cell_type": "markdown",
   "metadata": {},
   "source": [
    "3. Normalize the centered wine dataset so that each attribute also has unit (empirical) variance."
   ]
  },
  {
   "cell_type": "code",
   "execution_count": 5,
   "metadata": {},
   "outputs": [],
   "source": [
    "centeredNormedSamples = np.zeros((len(samples), len(samples[0])))\n",
    "\n",
    "for i in range(len(samples[0])):\n",
    "    centeredNormedSamples[:,i] = np.divide(centeredSamples[:,i], np.linalg.norm(centeredSamples[:,i]))"
   ]
  },
  {
   "cell_type": "markdown",
   "metadata": {},
   "source": [
    "4. Compute two-dimensional PCA features of the standardized (centered and normalized) wine dataset."
   ]
  },
  {
   "cell_type": "code",
   "execution_count": 6,
   "metadata": {},
   "outputs": [],
   "source": [
    "# Transpose the data so that variables are column-wise    \n",
    "centeredNormedData = centeredNormedSamples.T\n",
    "\n",
    "# Perform PCA as before for n=2\n",
    "U,S,V = np.linalg.svd(centeredNormedData)\n",
    "topTwoU = U[:,:2]\n",
    "topTwoS = np.diag(S[:2])\n",
    "topTwo = np.matmul(topTwoU, topTwoS)\n",
    "\n",
    "# Normalize the PCs\n",
    "for i in range(2):\n",
    "    topTwo[:,i] = np.divide(topTwo[:,i], np.linalg.norm(topTwo[:,i])) \n",
    "reducedNormSamples = np.matmul(topTwo.T, centeredNormedData).T"
   ]
  },
  {
   "cell_type": "markdown",
   "metadata": {},
   "source": [
    "• Display the two-dimensional features of standardized wine data samples as points on a twodimensional\n",
    "scatter plot. Display all points corresponding to: (i) label ‘0’ as red squares, (ii) label\n",
    "‘1’ as green triangles, and (iii) label ‘2’ as blue circles."
   ]
  },
  {
   "cell_type": "code",
   "execution_count": 7,
   "metadata": {},
   "outputs": [
    {
     "data": {
      "image/png": "[encoded data removed]",
      "text/plain": [
       "<Figure size 432x288 with 1 Axes>"
      ]
     },
     "metadata": {
      "needs_background": "light"
     },
     "output_type": "display_data"
    }
   ],
   "source": [
    "# Get the labels\n",
    "# Using the now 2D data, we can plot it using matplotlib\n",
    "zeroData = []\n",
    "oneData = []\n",
    "twoData = []\n",
    "\n",
    "# Separate into sets\n",
    "for i in range(len(labels)):\n",
    "    if(labels[i] == 0):\n",
    "        zeroData.append(reducedNormSamples[i])\n",
    "    elif(labels[i] == 1):\n",
    "        oneData.append(reducedNormSamples[i])\n",
    "    else:\n",
    "        twoData.append(reducedNormSamples[i])\n",
    "\n",
    "# Plot the points in each set, use last one for the legend\n",
    "plt.figure()\n",
    "for dataPoint in zeroData:\n",
    "    zeroPoint = plt.scatter(dataPoint[0], dataPoint[1], c=\"red\", marker=\"s\")\n",
    "for dataPoint in oneData:\n",
    "    onePoint = plt.scatter(dataPoint[0], dataPoint[1], c=\"green\", marker=\"^\")\n",
    "for dataPoint in twoData:\n",
    "    twoPoint = plt.scatter(dataPoint[0], dataPoint[1], c=\"blue\", marker=\"o\")\n",
    "    \n",
    "plt.legend((zeroPoint, onePoint, twoPoint), (\"0\", \"1\", \"2\"), loc='upper right', ncol=1)\n",
    "plt.title(\"Standardized Data in 2D\")\n",
    "plt.xlabel('PC 1')\n",
    "plt.ylabel('PC 2')\n",
    "plt.plot()\n",
    "plt.show()"
   ]
  },
  {
   "cell_type": "markdown",
   "metadata": {},
   "source": [
    "It is pretty clear that in the standardized data is much easier to classify than the non-standardized data. This is because of the greater separation of the three classes, and while the standardized data is not perfectly separable using a linear boundary, it is much better than the data that is not standardized."
   ]
  },
  {
   "cell_type": "markdown",
   "metadata": {},
   "source": [
    "### Naive Bayes Classification\n",
    "\n",
    "1. Build a three-class naive Bayes classifier that takes as input two-dimensional data and assumes each feature of the data to be conditionally Gaussian (i.e., Gaussian naive Bayes). You should assume that all classes are equally likely and that the class labels take values in the set {0, 1, 2}, as in the wine dataset.\n"
   ]
  },
  {
   "cell_type": "code",
   "execution_count": 8,
   "metadata": {},
   "outputs": [],
   "source": [
    "from sklearn.naive_bayes import GaussianNB\n",
    "import math\n",
    "\n",
    "# Helper function for calculating normal distribution\n",
    "def normPDF(x, mean, var):\n",
    "    return (1 / math.sqrt(2 * math.pi * var) * math.exp(-(x-mean)**2 / (2 * var)))\n",
    "\n",
    "class NBClassifier:\n",
    "    \n",
    "    def __init__(self, data, labels, priors):\n",
    "        self.data = data.shape[1]\n",
    "        self.priors = priors\n",
    "        self.classes = len(priors)\n",
    "        # We need a set of means and variances for each class and for each of the features\n",
    "        self.means = np.zeros((self.classes, self.data))\n",
    "        self.variances = np.zeros((self.classes, self.data))\n",
    "        # Put each of the data points into a respective list based on label 1,2,3\n",
    "        for i in range(self.classes):\n",
    "            classData = data[np.where(labels == i)]\n",
    "            self.means[i] = np.mean(classData, axis = 0)\n",
    "            self.variances[i] = np.var(classData, axis = 0)\n",
    "    \n",
    "    def classify(self, point):\n",
    "        # init the probabilities to 1\n",
    "        probList = [1] * len(self.priors)\n",
    "        for i in range(self.classes):\n",
    "            for x, mean, var in zip(point, self.means[i], self.variances[i]):\n",
    "                probList[i] *= normPDF(x, mean, var)\n",
    "        return np.argmax(probList)\n"
   ]
  },
  {
   "cell_type": "markdown",
   "metadata": {},
   "source": [
    "With the Naive Bayes Classifier constructed, we still need to have the method of cross validation using K-folds.\n",
    "\n",
    "2. Use Gaussian naive Bayes classifier for classification of the wine dataset using K-fold cross validation with K = 5 as follows:"
   ]
  },
  {
   "cell_type": "markdown",
   "metadata": {},
   "source": [
    "- Case I: Perform classification using your implementation of Gaussian naive Bayes classifier and two-dimensional PCA features of centered data only.\n",
    "- Case II: Perform classification using your implementation of Gaussian naive Bayes classifier and two-dimensional PCA features of standardized data.\n",
    "- Case III: Perform classification using sklearn’s implementation of Gaussian naive Bayes classifier (sklearn.naive_bayes.GaussianNB) and two-dimensional PCA features of standardized data."
   ]
  },
  {
   "cell_type": "code",
   "execution_count": 9,
   "metadata": {},
   "outputs": [
    {
     "name": "stdout",
     "output_type": "stream",
     "text": [
      "Stats for solely centered data:\n",
      "Accuracies: \t[0.75       0.75       0.77777778 0.85714286 0.71428571]\n",
      "Mean: \t\t0.7698412698412699\n",
      "Variance: \t0.0023116654069035006\n",
      "\n",
      "Stats for standarized (centered an normalize) data:\n",
      "Accuracies: \t[0.97222222 0.94444444 0.97222222 0.97142857 0.97142857]\n",
      "Mean: \t\t0.9663492063492063\n",
      "Variance: \t0.00012008062484252973\n",
      "\n",
      "Stats for standarized (centered an normalize) data using sklearn:\n",
      "Accuracies: \t[0.97222222 0.94444444 0.97222222 0.97142857 0.97142857]\n",
      "Mean: \t\t0.9663492063492063\n",
      "Variance: \t0.00012008062484252973\n"
     ]
    }
   ],
   "source": [
    "# Cross Validation has many aspects as discussed in class.\n",
    "# Points need to be ordered randomly and shuffled from the input, and then folded k times\n",
    "# https://scikit-learn.org/stable/modules/generated/sklearn.model_selection.KFold.html\n",
    "k = 5\n",
    "numClasses = 3\n",
    "priors = []\n",
    "# Problem states to assume equal likelyhood for each class, so the prior is 1/#classes\n",
    "for i in range(numClasses):\n",
    "    priors.append([1/numClasses])\n",
    "    \n",
    "# We can work with the indices and shuffle those to access without changing order of original data\n",
    "indices = np.arange(len(labels))\n",
    "np.random.shuffle(indices)\n",
    "folds = np.array_split(indices, k)\n",
    "# 'folds' now holds the indices to be used in a k-folds split fashion\n",
    "\n",
    "# This matrix will hold the runs for the three situations listed above\n",
    "# We can expect the best answer from the use of sklearn, in the final row\n",
    "accuracies = np.zeros((3, k))\n",
    "\n",
    "# This loop uses the classifier class created above\n",
    "for counter, data in enumerate([reducedSamples, reducedNormSamples]):\n",
    "    for i in range(k):\n",
    "        # Only one fold is used for the testing and removed from data set, rest is used for training\n",
    "        testingSet = data[folds[i],:]\n",
    "        trainingSet = np.delete(data, folds[i], axis = 0)\n",
    "        trainingLabels = np.delete(labels, folds[i])\n",
    "        naiveBayes = NBClassifier(trainingSet, trainingLabels, priors)\n",
    "        \n",
    "        # Misclassifications\n",
    "        errors = 0\n",
    "        for dataPoint, label in zip(testingSet, labels[folds[i]]):\n",
    "            if naiveBayes.classify(dataPoint) != label:\n",
    "                errors += 1\n",
    "        accuracies[counter, i] = ((len(folds[i]) - errors) / len(folds[i]))\n",
    "\n",
    "# Using sklearn we can also do the above operations on the standardized dataset\n",
    "# https://scikit-learn.org/stable/modules/generated/sklearn.naive_bayes.GaussianNB.html\n",
    "for i in range(k):\n",
    "    testingSet = reducedNormSamples[folds[i],:]\n",
    "    trainingSet = np.delete(reducedNormSamples, folds[i], axis=0)\n",
    "    trainingLabels = np.delete(labels, folds[i])  \n",
    "    naiveBayesSKLearn = GaussianNB(priors = priors)\n",
    "    naiveBayesSKLearn.fit(trainingSet, trainingLabels)\n",
    "    \n",
    "    # Misclassifications\n",
    "    errors = 0\n",
    "    guesses = naiveBayesSKLearn.predict(testingSet)\n",
    "    for dataPoint, label in zip(guesses, labels[folds[i]]):\n",
    "        if dataPoint != label:\n",
    "            errors += 1\n",
    "    accuracies[2, i] = (len(folds[i]) - errors) / len(folds[i])\n",
    "\n",
    "# Calculate the mean and variances of the accuracies for each of the 3 cases\n",
    "finalMeans = np.mean(accuracies, axis=1)\n",
    "finalVars = np.var(accuracies, axis=1)\n",
    "    \n",
    "print ('Stats for solely centered data:')\n",
    "print ('Accuracies: \\t' + str(accuracies[0]))\n",
    "print ('Mean: \\t\\t' + str(finalMeans[0]))\n",
    "print ('Variance: \\t' + str(finalVars[0]))\n",
    "print ()\n",
    "print ('Stats for standarized (centered an normalize) data:')\n",
    "print ('Accuracies: \\t' + str(accuracies[1]))\n",
    "print ('Mean: \\t\\t' + str(finalMeans[1]))\n",
    "print ('Variance: \\t' + str(finalVars[1]))\n",
    "print ()\n",
    "print ('Stats for standarized (centered an normalize) data using sklearn:')\n",
    "print ('Accuracies: \\t' + str(accuracies[2]))\n",
    "print ('Mean: \\t\\t' + str(finalMeans[2]))\n",
    "print ('Variance: \\t' + str(finalVars[2]))\n"
   ]
  },
  {
   "cell_type": "markdown",
   "metadata": {},
   "source": [
    "3. Compare and contrast the mean and variance of the classification accuracy of the classifiers in Case I, Case II, and Case III."
   ]
  },
  {
   "cell_type": "markdown",
   "metadata": {},
   "source": [
    "It is clear that Case 1 has a lower mean accuracy than Cases 2 and 3. Additionally, the variance of Case 1 is nearly 10x larger than those of Case 2 and Case 3. The lower average accuracy can be attributed to the lack of standardization of the features, the size of which factors in when not normalized. We really only want the variance between values to effect the classification, which is what normalizing all of the values does for us."
   ]
  }
 ],
 "metadata": {
  "kernelspec": {
   "display_name": "Python 3",
   "language": "python",
   "name": "python3"
  },
  "language_info": {
   "codemirror_mode": {
    "name": "ipython",
    "version": 3
   },
   "file_extension": ".py",
   "mimetype": "text/x-python",
   "name": "python",
   "nbconvert_exporter": "python",
   "pygments_lexer": "ipython3",
   "version": "3.7.1"
  }
 },
 "nbformat": 4,
 "nbformat_minor": 2
}
